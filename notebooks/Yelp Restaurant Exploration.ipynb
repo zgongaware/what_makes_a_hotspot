{
 "cells": [
  {
   "cell_type": "markdown",
   "metadata": {},
   "source": [
    "# Yelp Restaurant Exploration\n",
    "## Introduction\n",
    "A person's choice in dining has always been so subjective.  Each of has own our preferences and biases when it comes to food, and so the phrase \"Where should we eat?\" has launched countless debates and stalled decisions.  Yelp has offerred us a solution to that age-old debate. Crowd-consensus has provided us with objective evidence that this restaurant here is truly the one for us.\n",
    "\n",
    "But how much can we truly learn from crowd-consensus?  Is a five-star restaurant with 10 reviews truly the better choice over a four-star with 500?  Are there any features about a restaurant that we might use to predict how it might be rated?  In this project, I'll explore these questions.\n",
    "\n",
    "## The Dataset\n",
    "[Yelp and Kaggle](https://www.kaggle.com/yelp-dataset/yelp-dataset) have partered to provide us with an extensive dataset around Yelp's primary experiences - business information, user profiles, reviews, tips, and check-ins.   The data is organized into six .json files with over 5,000,000 entries between them.  However, in this project we will only focus on one - [yelp_academic_dataset_business.json](yelp_academic_dataset_business.json), which contains information on over 174,000 business in 11 metropolitan areas.\n",
    "\n",
    "## Questions to Answer\n",
    "- What is the distribution of star ratings for restaurants on Yelp?\n",
    "- Does a restaurant's rating really tell us it's the right choice? How does the number of reviews factor into a rating?\n",
    "- Using the attributes attached to a restaurant, how well can we predict its star rating?"
   ]
  },
  {
   "cell_type": "code",
   "execution_count": 64,
   "metadata": {},
   "outputs": [],
   "source": [
    "# Import required packages\n",
    "import matplotlib.pyplot as plt\n",
    "import numpy as np\n",
    "import seaborn as sns\n",
    "\n",
    "from ast import literal_eval\n",
    "from matplotlib.patches import Ellipse\n",
    "from pandas.io.json import json_normalize\n",
    "\n",
    "from sklearn.ensemble import GradientBoostingClassifier\n",
    "from sklearn.model_selection import train_test_split\n",
    "from sklearn.preprocessing import StandardScaler\n",
    "\n",
    "from sklearn.metrics import confusion_matrix\n",
    "from sklearn.utils.multiclass import unique_labels\n",
    "\n",
    "%matplotlib inline"
   ]
  },
  {
   "cell_type": "markdown",
   "metadata": {},
   "source": [
    "## First Look\n",
    "\n",
    "The data set includes information on a wide spectrum of businesses, but as true foodies, we are really only interested in the restaurants.  We'll have to isolate these from the data set, but let's first take a look at the general structure.\n"
   ]
  },
  {
   "cell_type": "code",
   "execution_count": 67,
   "metadata": {},
   "outputs": [
    {
     "data": {
      "text/html": [
       "<div>\n",
       "<style scoped>\n",
       "    .dataframe tbody tr th:only-of-type {\n",
       "        vertical-align: middle;\n",
       "    }\n",
       "\n",
       "    .dataframe tbody tr th {\n",
       "        vertical-align: top;\n",
       "    }\n",
       "\n",
       "    .dataframe thead th {\n",
       "        text-align: right;\n",
       "    }\n",
       "</style>\n",
       "<table border=\"1\" class=\"dataframe\">\n",
       "  <thead>\n",
       "    <tr style=\"text-align: right;\">\n",
       "      <th></th>\n",
       "      <th>address</th>\n",
       "      <th>attributes</th>\n",
       "      <th>business_id</th>\n",
       "      <th>categories</th>\n",
       "      <th>city</th>\n",
       "      <th>hours</th>\n",
       "      <th>is_open</th>\n",
       "      <th>latitude</th>\n",
       "      <th>longitude</th>\n",
       "      <th>name</th>\n",
       "      <th>postal_code</th>\n",
       "      <th>review_count</th>\n",
       "      <th>stars</th>\n",
       "      <th>state</th>\n",
       "    </tr>\n",
       "  </thead>\n",
       "  <tbody>\n",
       "    <tr>\n",
       "      <th>0</th>\n",
       "      <td>2818 E Camino Acequia Drive</td>\n",
       "      <td>{'GoodForKids': 'False'}</td>\n",
       "      <td>1SWheh84yJXfytovILXOAQ</td>\n",
       "      <td>Golf, Active Life</td>\n",
       "      <td>Phoenix</td>\n",
       "      <td>None</td>\n",
       "      <td>0</td>\n",
       "      <td>33.522143</td>\n",
       "      <td>-112.018481</td>\n",
       "      <td>Arizona Biltmore Golf Club</td>\n",
       "      <td>85016</td>\n",
       "      <td>5</td>\n",
       "      <td>3.0</td>\n",
       "      <td>AZ</td>\n",
       "    </tr>\n",
       "  </tbody>\n",
       "</table>\n",
       "</div>"
      ],
      "text/plain": [
       "                       address                attributes  \\\n",
       "0  2818 E Camino Acequia Drive  {'GoodForKids': 'False'}   \n",
       "\n",
       "              business_id         categories     city hours  is_open  \\\n",
       "0  1SWheh84yJXfytovILXOAQ  Golf, Active Life  Phoenix  None        0   \n",
       "\n",
       "    latitude   longitude                        name postal_code  \\\n",
       "0  33.522143 -112.018481  Arizona Biltmore Golf Club       85016   \n",
       "\n",
       "   review_count  stars state  \n",
       "0             5    3.0    AZ  "
      ]
     },
     "execution_count": 67,
     "metadata": {},
     "output_type": "execute_result"
    }
   ],
   "source": [
    "file = \"D:\\Directory\\what_makes_a_hotspot\\data\\yelp_academic_dataset_business.json\"\n",
    "raw = pd.read_json(file, lines=True)\n",
    "raw.head(1)"
   ]
  },
  {
   "cell_type": "code",
   "execution_count": 69,
   "metadata": {},
   "outputs": [
    {
     "data": {
      "text/plain": [
       "address          object\n",
       "attributes       object\n",
       "business_id      object\n",
       "categories       object\n",
       "city             object\n",
       "hours            object\n",
       "is_open           int64\n",
       "latitude        float64\n",
       "longitude       float64\n",
       "name             object\n",
       "postal_code      object\n",
       "review_count      int64\n",
       "stars           float64\n",
       "state            object\n",
       "dtype: object"
      ]
     },
     "execution_count": 69,
     "metadata": {},
     "output_type": "execute_result"
    }
   ],
   "source": [
    "raw.dtypes"
   ]
  },
  {
   "cell_type": "code",
   "execution_count": 70,
   "metadata": {},
   "outputs": [
    {
     "name": "stdout",
     "output_type": "stream",
     "text": [
      "<class 'pandas.core.frame.DataFrame'>\n",
      "RangeIndex: 192609 entries, 0 to 192608\n",
      "Data columns (total 14 columns):\n",
      "address         192609 non-null object\n",
      "attributes      163773 non-null object\n",
      "business_id     192609 non-null object\n",
      "categories      192127 non-null object\n",
      "city            192609 non-null object\n",
      "hours           147779 non-null object\n",
      "is_open         192609 non-null int64\n",
      "latitude        192609 non-null float64\n",
      "longitude       192609 non-null float64\n",
      "name            192609 non-null object\n",
      "postal_code     192609 non-null object\n",
      "review_count    192609 non-null int64\n",
      "stars           192609 non-null float64\n",
      "state           192609 non-null object\n",
      "dtypes: float64(3), int64(2), object(9)\n",
      "memory usage: 20.6+ MB\n"
     ]
    }
   ],
   "source": [
    "raw.info()"
   ]
  },
  {
   "cell_type": "markdown",
   "metadata": {},
   "source": [
    "## Isolating Restaurants\n",
    "We've found a golf course in Phoenix, Arizona, which apparently is not good for kids.  We can see that it has a unique identifier called `business_id`, and that the `attributes` and `categories` fields contain nested data.  We will have to get at this data in our exploration.\n",
    "\n",
    "We can also see that we have pretty good coverage throughout the fields.  `hours`, `attributes`, and `categories` contain varying amounts of missing fields.  This will need to be accounted for, as well.  Let's first try to isolate our restaurants."
   ]
  },
  {
   "cell_type": "code",
   "execution_count": 71,
   "metadata": {},
   "outputs": [],
   "source": [
    "def retrieve_restaurants(file):\n",
    "    \"\"\"\n",
    "    Iterate over JSON file and funnel restaurants to a dataframe for analysis\n",
    "    \"\"\"\n",
    "    # Retrieve JSONReader generator\n",
    "    reader = pd.read_json(file, lines=True, chunksize=1000)\n",
    "    \n",
    "    # Define empty dataframe for storing matches\n",
    "    cols = ['address', 'attributes', 'business_id', 'categories', 'city', 'latitude', 'longitude', \n",
    "            'name', 'postal_code', 'review_count', 'stars', 'state', 'restaurant']\n",
    "    \n",
    "    restaurants = pd.DataFrame(columns=cols)\n",
    "    \n",
    "    # Iterate over chunks, and funnel matches into dataframe\n",
    "    for chunk in reader:\n",
    "        \n",
    "        chunk[\"restaurant\"] = chunk[\"categories\"].apply(lambda x:\n",
    "            \"Restaurants\" in x.replace(\" \", \"\").split(\",\") if x is not None else False\n",
    "        )\n",
    "        \n",
    "        restaurants = pd.concat([restaurants, chunk[chunk[\"restaurant\"]]], sort=True)\n",
    "    \n",
    "    # Set index to business_id\n",
    "    restaurants.set_index(\"business_id\", inplace=True)\n",
    "        \n",
    "    return restaurants"
   ]
  },
  {
   "cell_type": "code",
   "execution_count": 72,
   "metadata": {},
   "outputs": [
    {
     "data": {
      "text/html": [
       "<div>\n",
       "<style scoped>\n",
       "    .dataframe tbody tr th:only-of-type {\n",
       "        vertical-align: middle;\n",
       "    }\n",
       "\n",
       "    .dataframe tbody tr th {\n",
       "        vertical-align: top;\n",
       "    }\n",
       "\n",
       "    .dataframe thead th {\n",
       "        text-align: right;\n",
       "    }\n",
       "</style>\n",
       "<table border=\"1\" class=\"dataframe\">\n",
       "  <thead>\n",
       "    <tr style=\"text-align: right;\">\n",
       "      <th></th>\n",
       "      <th>address</th>\n",
       "      <th>attributes</th>\n",
       "      <th>categories</th>\n",
       "      <th>city</th>\n",
       "      <th>hours</th>\n",
       "      <th>is_open</th>\n",
       "      <th>latitude</th>\n",
       "      <th>longitude</th>\n",
       "      <th>name</th>\n",
       "      <th>postal_code</th>\n",
       "      <th>restaurant</th>\n",
       "      <th>review_count</th>\n",
       "      <th>stars</th>\n",
       "      <th>state</th>\n",
       "    </tr>\n",
       "    <tr>\n",
       "      <th>business_id</th>\n",
       "      <th></th>\n",
       "      <th></th>\n",
       "      <th></th>\n",
       "      <th></th>\n",
       "      <th></th>\n",
       "      <th></th>\n",
       "      <th></th>\n",
       "      <th></th>\n",
       "      <th></th>\n",
       "      <th></th>\n",
       "      <th></th>\n",
       "      <th></th>\n",
       "      <th></th>\n",
       "      <th></th>\n",
       "    </tr>\n",
       "  </thead>\n",
       "  <tbody>\n",
       "    <tr>\n",
       "      <th>QXAEGFB4oINsVuTFxEYKFQ</th>\n",
       "      <td>30 Eglinton Avenue W</td>\n",
       "      <td>{'RestaurantsReservations': 'True', 'GoodForMe...</td>\n",
       "      <td>Specialty Food, Restaurants, Dim Sum, Imported...</td>\n",
       "      <td>Mississauga</td>\n",
       "      <td>{'Monday': '9:0-0:0', 'Tuesday': '9:0-0:0', 'W...</td>\n",
       "      <td>1.0</td>\n",
       "      <td>43.605499</td>\n",
       "      <td>-79.652289</td>\n",
       "      <td>Emerald Chinese Restaurant</td>\n",
       "      <td>L5R 3E7</td>\n",
       "      <td>True</td>\n",
       "      <td>128</td>\n",
       "      <td>2.5</td>\n",
       "      <td>ON</td>\n",
       "    </tr>\n",
       "  </tbody>\n",
       "</table>\n",
       "</div>"
      ],
      "text/plain": [
       "                                     address  \\\n",
       "business_id                                    \n",
       "QXAEGFB4oINsVuTFxEYKFQ  30 Eglinton Avenue W   \n",
       "\n",
       "                                                               attributes  \\\n",
       "business_id                                                                 \n",
       "QXAEGFB4oINsVuTFxEYKFQ  {'RestaurantsReservations': 'True', 'GoodForMe...   \n",
       "\n",
       "                                                               categories  \\\n",
       "business_id                                                                 \n",
       "QXAEGFB4oINsVuTFxEYKFQ  Specialty Food, Restaurants, Dim Sum, Imported...   \n",
       "\n",
       "                               city  \\\n",
       "business_id                           \n",
       "QXAEGFB4oINsVuTFxEYKFQ  Mississauga   \n",
       "\n",
       "                                                                    hours  \\\n",
       "business_id                                                                 \n",
       "QXAEGFB4oINsVuTFxEYKFQ  {'Monday': '9:0-0:0', 'Tuesday': '9:0-0:0', 'W...   \n",
       "\n",
       "                        is_open   latitude  longitude  \\\n",
       "business_id                                             \n",
       "QXAEGFB4oINsVuTFxEYKFQ      1.0  43.605499 -79.652289   \n",
       "\n",
       "                                              name postal_code restaurant  \\\n",
       "business_id                                                                 \n",
       "QXAEGFB4oINsVuTFxEYKFQ  Emerald Chinese Restaurant     L5R 3E7       True   \n",
       "\n",
       "                       review_count  stars state  \n",
       "business_id                                       \n",
       "QXAEGFB4oINsVuTFxEYKFQ          128    2.5    ON  "
      ]
     },
     "execution_count": 72,
     "metadata": {},
     "output_type": "execute_result"
    }
   ],
   "source": [
    "restaurants = retrieve_restaurants(file)\n",
    "restaurants.head(1)"
   ]
  },
  {
   "cell_type": "code",
   "execution_count": 75,
   "metadata": {},
   "outputs": [
    {
     "data": {
      "text/plain": [
       "{'RestaurantsReservations': 'True',\n",
       " 'GoodForMeal': \"{'dessert': False, 'latenight': False, 'lunch': True, 'dinner': True, 'brunch': False, 'breakfast': False}\",\n",
       " 'BusinessParking': \"{'garage': False, 'street': False, 'validated': False, 'lot': True, 'valet': False}\",\n",
       " 'Caters': 'True',\n",
       " 'NoiseLevel': \"u'loud'\",\n",
       " 'RestaurantsTableService': 'True',\n",
       " 'RestaurantsTakeOut': 'True',\n",
       " 'RestaurantsPriceRange2': '2',\n",
       " 'OutdoorSeating': 'False',\n",
       " 'BikeParking': 'False',\n",
       " 'Ambience': \"{'romantic': False, 'intimate': False, 'classy': False, 'hipster': False, 'divey': False, 'touristy': False, 'trendy': False, 'upscale': False, 'casual': True}\",\n",
       " 'HasTV': 'False',\n",
       " 'WiFi': \"u'no'\",\n",
       " 'GoodForKids': 'True',\n",
       " 'Alcohol': \"u'full_bar'\",\n",
       " 'RestaurantsAttire': \"u'casual'\",\n",
       " 'RestaurantsGoodForGroups': 'True',\n",
       " 'RestaurantsDelivery': 'False'}"
      ]
     },
     "execution_count": 75,
     "metadata": {},
     "output_type": "execute_result"
    }
   ],
   "source": [
    "restaurants.head(1)['attributes'].values[0]"
   ]
  },
  {
   "cell_type": "markdown",
   "metadata": {},
   "source": [
    "## Parsing and Cleaning\n",
    "\n",
    "Now we're talking.  Dim sum in Mississa-something!  Ouch on the 2.5 stars though.  At least there's a full bar.\n",
    "\n",
    "Digging in to the `attributes` column, we see there is a wealth of information - the type of meals a restaurant is good for, ambience, alcohol service, noise level, even wifi availability!  Some fields like `Ambience` even have their own nested dictionaries.  In order to properly analyze this set, we'll need to normalize these attributes into our dataframe."
   ]
  },
  {
   "cell_type": "code",
   "execution_count": 77,
   "metadata": {
    "scrolled": true
   },
   "outputs": [],
   "source": [
    "def parse_nested(x):\n",
    "    \"\"\"\n",
    "    Assist in removing some of the artifacts preventing clean parsing of nested data\n",
    "    \"\"\"\n",
    "    \n",
    "    if x is None:\n",
    "        return '{\"None\": True}'\n",
    "    elif x == \"None\":\n",
    "        return '{\"None\": True}'\n",
    "    else:\n",
    "        return x\n",
    "    \n",
    "def normalize_nested(df, col):\n",
    "    \"\"\"\n",
    "    Clean a nested column within the attributes field, convert from string to a dictionary, and normalize to fit the data set\n",
    "    \"\"\"\n",
    "    \n",
    "    norm = df[\"attributes\"].apply(lambda x: x.get(col) if x is not None else '{\"None\": 1}')\n",
    "    \n",
    "    norm = norm.apply(parse_nested)\n",
    "    \n",
    "    norm = norm.apply(literal_eval)\n",
    "    \n",
    "    norm = json_normalize(norm).set_index(df.index)\n",
    "    \n",
    "    for c in norm.columns:\n",
    "        # Rename columns with prefix\n",
    "        new_name = col.lower()+\"_\"+c\n",
    "        norm.rename(columns={c: new_name}, inplace=True)\n",
    "        \n",
    "        # Set True/False to 1/0\n",
    "        norm[new_name] = norm[new_name].apply(lambda x: 1 if x is True else 0)\n",
    "        \n",
    "    norm.fillna(0, inplace=True)\n",
    "    \n",
    "    return df.merge(norm, left_index=True, right_index=True)\n",
    "\n",
    "def parse_attributes(df):\n",
    "    \"\"\"\n",
    "    Parse attribute fields that do not contain nested data and remove unicode artifacts\n",
    "    \"\"\"\n",
    "    \n",
    "    # Selected Attributes\n",
    "    attr = [\"NoiseLevel\", \"RestaurantsTableService\", \"RestaurantsTakeOut\", \"OutdoorSeating\", \"Alcohol\", \n",
    "            \"RestaurantsAttire\", \"RestaurantsDelivery\", \"RestaurantsGoodForGroups\", \"GoodForKids\"]\n",
    "\n",
    "    for a in attr:\n",
    "        \n",
    "        col = a.lower()\n",
    "        \n",
    "        # Set as column\n",
    "        df[col] = df[\"attributes\"].apply(lambda x: x.get(a) if x is not None else 0)\n",
    "        \n",
    "        # Remove unicode references\n",
    "        df[col] = df[col].str.replace(\"u'\", \"\").str.replace(\"'\", \"\")\n",
    "                \n",
    "    return df\n",
    "    \n",
    "def parse_dummies(df):\n",
    "    \"\"\"\n",
    "    Parse string columns in Attributes field and convert to dummy variables\n",
    "    \"\"\"\n",
    "    \n",
    "    # Dummy columns\n",
    "    dummies = [\"noiselevel\", \"alcohol\", \"restaurantsattire\"]\n",
    "\n",
    "    for d in dummies:\n",
    "        \n",
    "        # Get dummies and merge on dataframe\n",
    "        df = df.merge(pd.get_dummies(df[d], prefix=d), left_index=True, right_index=True)\n",
    "        \n",
    "    return df\n",
    "\n",
    "def format_restaurants(df):\n",
    "    \"\"\"\n",
    "    Normalized nested field, parse attributes, and create dummy columns where necessary.  Remove \n",
    "    columns that are extraneous to our analysis, and ensure all fields are either integer or float.\n",
    "    \"\"\"\n",
    "    \n",
    "    # Normalize Ambience columns\n",
    "    df = normalize_nested(df, \"Ambience\")\n",
    "    \n",
    "    # Normalize GoodForMeal columns\n",
    "    df = normalize_nested(df, \"GoodForMeal\")\n",
    "    \n",
    "    # Parse attribute columns\n",
    "    df = parse_attributes(df)\n",
    "    \n",
    "    # Parse dummies\n",
    "    df = parse_dummies(df)\n",
    "    \n",
    "    # Drop extraneous columns\n",
    "    drop_cols = ['attributes', 'noiselevel', 'alcohol', 'restaurantsattire', 'address', 'categories', \n",
    "                 'city', 'latitude', 'longitude', 'name', 'postal_code', 'state', 'restaurant', 'hours',\n",
    "                 'is_open', 'ambience_None', 'goodformeal_None', 'noiselevel_None', 'alcohol_None',]\n",
    "    \n",
    "    df.drop(columns=drop_cols, inplace=True)\n",
    "    \n",
    "    # Set review_count to int\n",
    "    df[\"review_count\"] = df[\"review_count\"].astype(int)\n",
    "    \n",
    "    # If column is still an object, set values to binary\n",
    "    for col in df.columns:\n",
    "        if df[col].dtype in [object, bool]:\n",
    "            df[col] = df[col].apply(lambda x: 1 if x == 'True' else 0)\n",
    "    \n",
    "    return df"
   ]
  },
  {
   "cell_type": "code",
   "execution_count": 78,
   "metadata": {},
   "outputs": [
    {
     "data": {
      "text/html": [
       "<div>\n",
       "<style scoped>\n",
       "    .dataframe tbody tr th:only-of-type {\n",
       "        vertical-align: middle;\n",
       "    }\n",
       "\n",
       "    .dataframe tbody tr th {\n",
       "        vertical-align: top;\n",
       "    }\n",
       "\n",
       "    .dataframe thead th {\n",
       "        text-align: right;\n",
       "    }\n",
       "</style>\n",
       "<table border=\"1\" class=\"dataframe\">\n",
       "  <thead>\n",
       "    <tr style=\"text-align: right;\">\n",
       "      <th></th>\n",
       "      <th>review_count</th>\n",
       "      <th>stars</th>\n",
       "      <th>ambience_casual</th>\n",
       "      <th>ambience_classy</th>\n",
       "      <th>ambience_divey</th>\n",
       "      <th>ambience_hipster</th>\n",
       "      <th>ambience_intimate</th>\n",
       "      <th>ambience_romantic</th>\n",
       "      <th>ambience_touristy</th>\n",
       "      <th>ambience_trendy</th>\n",
       "      <th>...</th>\n",
       "      <th>noiselevel_loud</th>\n",
       "      <th>noiselevel_quiet</th>\n",
       "      <th>noiselevel_very_loud</th>\n",
       "      <th>alcohol_beer_and_wine</th>\n",
       "      <th>alcohol_full_bar</th>\n",
       "      <th>alcohol_none</th>\n",
       "      <th>restaurantsattire_None</th>\n",
       "      <th>restaurantsattire_casual</th>\n",
       "      <th>restaurantsattire_dressy</th>\n",
       "      <th>restaurantsattire_formal</th>\n",
       "    </tr>\n",
       "    <tr>\n",
       "      <th>business_id</th>\n",
       "      <th></th>\n",
       "      <th></th>\n",
       "      <th></th>\n",
       "      <th></th>\n",
       "      <th></th>\n",
       "      <th></th>\n",
       "      <th></th>\n",
       "      <th></th>\n",
       "      <th></th>\n",
       "      <th></th>\n",
       "      <th></th>\n",
       "      <th></th>\n",
       "      <th></th>\n",
       "      <th></th>\n",
       "      <th></th>\n",
       "      <th></th>\n",
       "      <th></th>\n",
       "      <th></th>\n",
       "      <th></th>\n",
       "      <th></th>\n",
       "      <th></th>\n",
       "    </tr>\n",
       "  </thead>\n",
       "  <tbody>\n",
       "    <tr>\n",
       "      <th>QXAEGFB4oINsVuTFxEYKFQ</th>\n",
       "      <td>128</td>\n",
       "      <td>2.5</td>\n",
       "      <td>1</td>\n",
       "      <td>0</td>\n",
       "      <td>0</td>\n",
       "      <td>0</td>\n",
       "      <td>0</td>\n",
       "      <td>0</td>\n",
       "      <td>0</td>\n",
       "      <td>0</td>\n",
       "      <td>...</td>\n",
       "      <td>1</td>\n",
       "      <td>0</td>\n",
       "      <td>0</td>\n",
       "      <td>0</td>\n",
       "      <td>1</td>\n",
       "      <td>0</td>\n",
       "      <td>0</td>\n",
       "      <td>1</td>\n",
       "      <td>0</td>\n",
       "      <td>0</td>\n",
       "    </tr>\n",
       "  </tbody>\n",
       "</table>\n",
       "<p>1 rows × 34 columns</p>\n",
       "</div>"
      ],
      "text/plain": [
       "                        review_count  stars  ambience_casual  ambience_classy  \\\n",
       "business_id                                                                     \n",
       "QXAEGFB4oINsVuTFxEYKFQ           128    2.5                1                0   \n",
       "\n",
       "                        ambience_divey  ambience_hipster  ambience_intimate  \\\n",
       "business_id                                                                   \n",
       "QXAEGFB4oINsVuTFxEYKFQ               0                 0                  0   \n",
       "\n",
       "                        ambience_romantic  ambience_touristy  ambience_trendy  \\\n",
       "business_id                                                                     \n",
       "QXAEGFB4oINsVuTFxEYKFQ                  0                  0                0   \n",
       "\n",
       "                        ...  noiselevel_loud  noiselevel_quiet  \\\n",
       "business_id             ...                                      \n",
       "QXAEGFB4oINsVuTFxEYKFQ  ...                1                 0   \n",
       "\n",
       "                        noiselevel_very_loud  alcohol_beer_and_wine  \\\n",
       "business_id                                                           \n",
       "QXAEGFB4oINsVuTFxEYKFQ                     0                      0   \n",
       "\n",
       "                        alcohol_full_bar  alcohol_none  \\\n",
       "business_id                                              \n",
       "QXAEGFB4oINsVuTFxEYKFQ                 1             0   \n",
       "\n",
       "                        restaurantsattire_None  restaurantsattire_casual  \\\n",
       "business_id                                                                \n",
       "QXAEGFB4oINsVuTFxEYKFQ                       0                         1   \n",
       "\n",
       "                        restaurantsattire_dressy  restaurantsattire_formal  \n",
       "business_id                                                                 \n",
       "QXAEGFB4oINsVuTFxEYKFQ                         0                         0  \n",
       "\n",
       "[1 rows x 34 columns]"
      ]
     },
     "execution_count": 78,
     "metadata": {},
     "output_type": "execute_result"
    }
   ],
   "source": [
    "clean = format_restaurants(restaurants)\n",
    "clean.head(1)"
   ]
  },
  {
   "cell_type": "markdown",
   "metadata": {},
   "source": [
    "## Cleaned Data\n",
    "Wow! That was a lot of work!  There were a few eccentricities in the attributes field that required some extra attention.  Mainly, some of the nested dictionaries were inconsistently formatted, which required some additional parsing logic.  Regardless, we now have a normalized dataset with dummy variables for many of the nested items within the attributes field.  Our data is also now entirely numeric, which should make the next analysis steps much smoother.\n",
    "\n",
    "## Distribution of Star Ratings"
   ]
  },
  {
   "cell_type": "code",
   "execution_count": 28,
   "metadata": {},
   "outputs": [
    {
     "data": {
      "image/png": "[encoded data removed]",
      "text/plain": [
       "<Figure size 720x504 with 1 Axes>"
      ]
     },
     "metadata": {
      "needs_background": "light"
     },
     "output_type": "display_data"
    }
   ],
   "source": [
    "# Instantiate Figure\n",
    "fig, ax = plt.subplots(1, 1, figsize=(10, 7))\n",
    "\n",
    "# Create countplot\n",
    "sns.countplot(clean.stars, color='#d32323', ax=ax)\n",
    "\n",
    "# Format\n",
    "ax.set_title(\"Distribution of Star Ratings\", fontsize=14)\n",
    "ax.set_xlabel(\"Stars\")\n",
    "ax.set_ylabel(\"Count\")\n",
    "ax.spines['top'].set_visible(False)\n",
    "ax.spines['right'].set_visible(False)\n",
    "\n",
    "plt.show()"
   ]
  },
  {
   "cell_type": "code",
   "execution_count": 29,
   "metadata": {},
   "outputs": [
    {
     "data": {
      "image/png": "[encoded data removed]",
      "text/plain": [
       "<Figure size 720x504 with 1 Axes>"
      ]
     },
     "metadata": {
      "needs_background": "light"
     },
     "output_type": "display_data"
    }
   ],
   "source": [
    "# Instantiate Figure\n",
    "fig, ax = plt.subplots(1, 1, figsize=(10, 7))\n",
    "\n",
    "# Create distplot\n",
    "sns.distplot(clean.stars, color='#d32323', bins=[1, 1.5, 2, 2.5, 3, 3.5, 4, 4.5, 5, 5.5],\n",
    "             hist_kws={'cumulative': True, 'align': 'left', 'rwidth': .9, \"alpha\": 0.5}, \n",
    "             kde_kws={'cumulative': True}, ax=ax)\n",
    "\n",
    "# Format\n",
    "ax.set_title(\"Cumulative Distribution of Star Ratings\", fontsize=14)\n",
    "ax.set_xlabel(\"Stars\")\n",
    "ax.set_ylabel(\"Percent of Total\")\n",
    "ax.spines['top'].set_visible(False)\n",
    "ax.spines['right'].set_visible(False)\n",
    "\n",
    "plt.show()"
   ]
  },
  {
   "cell_type": "markdown",
   "metadata": {},
   "source": [
    "The distribution of star ratings appears to be slightly skewed towards higher ratings, though fives remain relatively rare.  It seems Yelp reviewers trend towards the \"good, but not great\" view on most restaurants - at least in the cities we have available to us.  Looking at the cumulative distribution chart, we can see just about 60% of reviews fall at 3.5 stars or less.\n",
    "\n",
    "## The Impact of Review Count\n",
    "\n",
    "But let's dive a bit deeper and see how review count factors in.  Do we see restaurants with a higher number of reviews regress towards the mean of rating? Are there some that resist the pull towards the center?"
   ]
  },
  {
   "cell_type": "code",
   "execution_count": 30,
   "metadata": {
    "scrolled": false
   },
   "outputs": [
    {
     "data": {
      "image/png": "[encoded data removed]",
      "text/plain": [
       "<Figure size 720x504 with 1 Axes>"
      ]
     },
     "metadata": {
      "needs_background": "light"
     },
     "output_type": "display_data"
    }
   ],
   "source": [
    "# Instantiate Figure\n",
    "fig, ax = plt.subplots(1, 1, figsize=(10, 7))\n",
    "\n",
    "# Create boxplot\n",
    "sns.boxplot(x=clean[\"stars\"], y=np.log(clean[\"review_count\"]), ax=ax, color='#d32323')\n",
    "\n",
    "# Format\n",
    "ax.set_title(\"Distribution of Review Count (Log) by Star Rating\", fontsize=14)\n",
    "ax.set_xlabel(\"Stars\")\n",
    "ax.set_ylabel(\"Review Count (Log)\")\n",
    "ax.spines['top'].set_visible(False)\n",
    "ax.spines['right'].set_visible(False)\n",
    "\n",
    "plt.show()"
   ]
  },
  {
   "cell_type": "markdown",
   "metadata": {},
   "source": [
    "Interesting!  We can see our middle-of-the-pack restaurants typically have a higher count of reviews than those on the edges.  One star reviewed restaurants have the least reviews.  This might be from bad reviews driving other Yelpers away, or it could just be that nobody posts a review for the McDonald's on Exit 73 unless they've had a really bad experience.  Five star reviewed restaurants have the second-lowest count, though we see a long tail of outliers that may prove interesting.  Note, the log of review counts was taken here to diminish the impact of outlier restaurants with thousands of reviews."
   ]
  },
  {
   "cell_type": "code",
   "execution_count": 31,
   "metadata": {
    "scrolled": false
   },
   "outputs": [
    {
     "data": {
      "image/png": "[encoded data removed]",
      "text/plain": [
       "<Figure size 720x504 with 1 Axes>"
      ]
     },
     "metadata": {
      "needs_background": "light"
     },
     "output_type": "display_data"
    }
   ],
   "source": [
    "# Instantiate Figure\n",
    "fig, ax = plt.subplots(1, 1, figsize=(10, 7))\n",
    "\n",
    "# Create boxplot\n",
    "sns.boxplot(x=clean[\"stars\"], y=np.log(clean[\"review_count\"]), ax=ax, color='#d32323')\n",
    "\n",
    "# Draw elipse\n",
    "ellipse = Ellipse((8, 6), .75, 4, alpha=0.25, color='#d32323')\n",
    "ax.add_artist(ellipse)\n",
    "\n",
    "# Add annotation\n",
    "ax.annotate('The good ones!', xy=(8.25,6.75), xytext=(8.5,7.5), fontsize=12,\n",
    "           arrowprops=dict(facecolor='black', shrink=0.01, width=0.5, headwidth=9))\n",
    "\n",
    "# Format\n",
    "ax.set_title(\"Distribution of Review Count (Log) by Star Rating\", fontsize=14)\n",
    "ax.set_xlabel(\"Stars\")\n",
    "ax.set_ylabel(\"Review Count (Log)\")\n",
    "ax.spines['top'].set_visible(False)\n",
    "ax.spines['right'].set_visible(False)\n",
    "\n",
    "plt.show()"
   ]
  },
  {
   "cell_type": "markdown",
   "metadata": {},
   "source": [
    "## Proposing a New Metric\n",
    "\n",
    "So we see that five-star restaurants typically have smaller review counts than those in the middle of the pack.  What does that tell us?  Can we really trust a rating when only five reviews have been entered?  Wouldn't the 4.5 star restaurant with one hundred reviews be a much safer choice?\n",
    "\n",
    "The concept of weighted scoring has been brought up by Yelpers before, but usually to the tune of reactions like this -\n",
    "\n",
    "![Imgur](https://i.imgur.com/7KSEkcw.png)\n",
    "\n",
    "Fortunately, the folks at [math.stackexchange](https://math.stackexchange.com/questions/942738/algorithm-to-calculate-rating-based-on-multiple-reviews-using-both-review-score) operate more on my frequency and offered the following formula for producing a weighted score -\n",
    "\n",
    "$$\\text{score}=Pp+10(1-P)(1-e^{-q/Q}))$$\n",
    "\n",
    "To paraphrase, we can combine the notions of quality ($p$ for star rating) and quantity ($q$ for review count) by assigning each of them weights and normalizing onto a similar scale. $P$ becomes the weight (between 0 and 1) we assign to our star rating.  The review count becomes embedded in an exponential function with it's own weight, $Q$; and the output of this is multipled by the inverse of star's $P$ along with the constant $10$ make our score function on a nice 1 to 10 scale.  We add these together to get our weighted rating!\n",
    "\n",
    "Got that?  I recommend reading [the post](https://math.stackexchange.com/questions/942738/algorithm-to-calculate-rating-based-on-multiple-reviews-using-both-review-score) again.  It took me a few times as well.  Anywho, without further ado, let's introduce our restaurant heatscore™!\n",
    "\n",
    "## Heatscore!™"
   ]
  },
  {
   "cell_type": "code",
   "execution_count": 100,
   "metadata": {},
   "outputs": [
    {
     "data": {
      "text/html": [
       "<div>\n",
       "<style scoped>\n",
       "    .dataframe tbody tr th:only-of-type {\n",
       "        vertical-align: middle;\n",
       "    }\n",
       "\n",
       "    .dataframe tbody tr th {\n",
       "        vertical-align: top;\n",
       "    }\n",
       "\n",
       "    .dataframe thead th {\n",
       "        text-align: right;\n",
       "    }\n",
       "</style>\n",
       "<table border=\"1\" class=\"dataframe\">\n",
       "  <thead>\n",
       "    <tr style=\"text-align: right;\">\n",
       "      <th></th>\n",
       "      <th>review_count</th>\n",
       "      <th>stars</th>\n",
       "      <th>heatscore</th>\n",
       "    </tr>\n",
       "    <tr>\n",
       "      <th>business_id</th>\n",
       "      <th></th>\n",
       "      <th></th>\n",
       "      <th></th>\n",
       "    </tr>\n",
       "  </thead>\n",
       "  <tbody>\n",
       "    <tr>\n",
       "      <th>Xg5qEQiB-7L6kGJ5F4K3bQ</th>\n",
       "      <td>1936</td>\n",
       "      <td>5.0</td>\n",
       "      <td>6.499997</td>\n",
       "    </tr>\n",
       "    <tr>\n",
       "      <th>IhNASEZ3XnBHmuuVnWdIwA</th>\n",
       "      <td>1506</td>\n",
       "      <td>5.0</td>\n",
       "      <td>6.499936</td>\n",
       "    </tr>\n",
       "    <tr>\n",
       "      <th>SSCH4Z2gw-hh2KZy7aH4qw</th>\n",
       "      <td>552</td>\n",
       "      <td>5.0</td>\n",
       "      <td>6.441822</td>\n",
       "    </tr>\n",
       "    <tr>\n",
       "      <th>ewmTwsZqCHH2gvCeDKz0dw</th>\n",
       "      <td>543</td>\n",
       "      <td>5.0</td>\n",
       "      <td>6.437959</td>\n",
       "    </tr>\n",
       "    <tr>\n",
       "      <th>q2GzUNQj998GSC8IhkN9hg</th>\n",
       "      <td>459</td>\n",
       "      <td>5.0</td>\n",
       "      <td>6.386954</td>\n",
       "    </tr>\n",
       "    <tr>\n",
       "      <th>1qkKfqhO8z2XMzLLDFE96Q</th>\n",
       "      <td>414</td>\n",
       "      <td>5.0</td>\n",
       "      <td>6.344098</td>\n",
       "    </tr>\n",
       "    <tr>\n",
       "      <th>52yWGkwnrQXIjvuMjYxsiA</th>\n",
       "      <td>402</td>\n",
       "      <td>5.0</td>\n",
       "      <td>6.330146</td>\n",
       "    </tr>\n",
       "    <tr>\n",
       "      <th>8fFTJBh0RB2EKG53ibiBKw</th>\n",
       "      <td>374</td>\n",
       "      <td>5.0</td>\n",
       "      <td>6.292540</td>\n",
       "    </tr>\n",
       "    <tr>\n",
       "      <th>3pSUr_cdrphurO6m1HMP9A</th>\n",
       "      <td>363</td>\n",
       "      <td>5.0</td>\n",
       "      <td>6.275582</td>\n",
       "    </tr>\n",
       "    <tr>\n",
       "      <th>O7UMzd3i-Zk8dMeyY9ZwoA</th>\n",
       "      <td>350</td>\n",
       "      <td>5.0</td>\n",
       "      <td>6.253745</td>\n",
       "    </tr>\n",
       "    <tr>\n",
       "      <th>xCL38K0oPgK3ydzg4CrvKg</th>\n",
       "      <td>340</td>\n",
       "      <td>5.0</td>\n",
       "      <td>6.235512</td>\n",
       "    </tr>\n",
       "    <tr>\n",
       "      <th>cePE3rCuUOVSCCAHSjWxoQ</th>\n",
       "      <td>313</td>\n",
       "      <td>5.0</td>\n",
       "      <td>6.179253</td>\n",
       "    </tr>\n",
       "    <tr>\n",
       "      <th>DkYS3arLOhA8si5uUEmHOw</th>\n",
       "      <td>5075</td>\n",
       "      <td>4.5</td>\n",
       "      <td>6.150000</td>\n",
       "    </tr>\n",
       "    <tr>\n",
       "      <th>faPVqws-x-5k2CQKDNtHxw</th>\n",
       "      <td>3576</td>\n",
       "      <td>4.5</td>\n",
       "      <td>6.150000</td>\n",
       "    </tr>\n",
       "    <tr>\n",
       "      <th>hihud--QRriCYZw1zZvW4g</th>\n",
       "      <td>3449</td>\n",
       "      <td>4.5</td>\n",
       "      <td>6.150000</td>\n",
       "    </tr>\n",
       "  </tbody>\n",
       "</table>\n",
       "</div>"
      ],
      "text/plain": [
       "                        review_count  stars  heatscore\n",
       "business_id                                           \n",
       "Xg5qEQiB-7L6kGJ5F4K3bQ          1936    5.0   6.499997\n",
       "IhNASEZ3XnBHmuuVnWdIwA          1506    5.0   6.499936\n",
       "SSCH4Z2gw-hh2KZy7aH4qw           552    5.0   6.441822\n",
       "ewmTwsZqCHH2gvCeDKz0dw           543    5.0   6.437959\n",
       "q2GzUNQj998GSC8IhkN9hg           459    5.0   6.386954\n",
       "1qkKfqhO8z2XMzLLDFE96Q           414    5.0   6.344098\n",
       "52yWGkwnrQXIjvuMjYxsiA           402    5.0   6.330146\n",
       "8fFTJBh0RB2EKG53ibiBKw           374    5.0   6.292540\n",
       "3pSUr_cdrphurO6m1HMP9A           363    5.0   6.275582\n",
       "O7UMzd3i-Zk8dMeyY9ZwoA           350    5.0   6.253745\n",
       "xCL38K0oPgK3ydzg4CrvKg           340    5.0   6.235512\n",
       "cePE3rCuUOVSCCAHSjWxoQ           313    5.0   6.179253\n",
       "DkYS3arLOhA8si5uUEmHOw          5075    4.5   6.150000\n",
       "faPVqws-x-5k2CQKDNtHxw          3576    4.5   6.150000\n",
       "hihud--QRriCYZw1zZvW4g          3449    4.5   6.150000"
      ]
     },
     "execution_count": 100,
     "metadata": {},
     "output_type": "execute_result"
    }
   ],
   "source": [
    "def calculate_heatscore_tm(x, p, q):\n",
    "    \n",
    "    return (p * x[\"stars\"]) + (10*(1 - p) * (1 - np.exp(-(x[\"review_count\"])/q)))\n",
    "    \n",
    "\n",
    "clean[\"heatscore\"] = clean.apply(calculate_heatscore_tm, axis=1, args=(0.7, 140))\n",
    "\n",
    "clean.sort_values(\"heatscore\", ascending=False).head(15)[[\"review_count\", \"stars\", \"heatscore\"]]"
   ]
  },
  {
   "cell_type": "markdown",
   "metadata": {},
   "source": [
    "With the heatscore™ applied, we can see our top restaurants remain those with five stars.  However, around entry thirteen, we start to see the 4.5 star restaurants with very high volumes of reviews. Our formula appears to be working!  Let's play with the parameters a bit to see how they impact the scoring."
   ]
  },
  {
   "cell_type": "code",
   "execution_count": 161,
   "metadata": {},
   "outputs": [],
   "source": [
    "def plot_heatscore_tm(df, p, q):\n",
    "\n",
    "    # Instantiate Figure\n",
    "    fig, ax = plt.subplots(3, 3, figsize=(12, 10), sharex=True, sharey=True)\n",
    "\n",
    "    x, y = 0, 0\n",
    "    for star in np.sort(df[\"stars\"].unique()):\n",
    "\n",
    "        star_df = df[df[\"stars\"]==star]\n",
    "\n",
    "        ax[x][y].scatter(np.log(star_df[\"review_count\"]), star_df[\"heatscore\"], color='#d32323', s=1)\n",
    "\n",
    "        ax[x][y].set_title(str(star) + \" Stars\")\n",
    "\n",
    "        if y == 2:\n",
    "            x += 1\n",
    "            y = 0\n",
    "        else:\n",
    "            y += 1\n",
    "\n",
    "    # Set common labels\n",
    "    fig.text(0.5, 0.075, 'Review Count (Log)', ha='center', va='center', fontsize=12)\n",
    "    fig.text(0.09, 0.5, 'Heatscore™', ha='center', va='center', rotation='vertical', fontsize=12)\n",
    "    fig.suptitle(f\"Heatscore™ Comparison by Star Review\\nP={p}, Q={q}\", y=.96, fontsize=14)\n",
    "    plt.show()"
   ]
  },
  {
   "cell_type": "code",
   "execution_count": 162,
   "metadata": {},
   "outputs": [
    {
     "data": {
      "image/png": "[encoded data removed]",
      "text/plain": [
       "<Figure size 864x720 with 9 Axes>"
      ]
     },
     "metadata": {
      "needs_background": "light"
     },
     "output_type": "display_data"
    }
   ],
   "source": [
    "p, q = 0.9, 10\n",
    "\n",
    "heatscore = clean\n",
    "heatscore[\"heatscore\"] = heatscore1.apply(calculate_heatscore_tm, axis=1, args=(p, q))\n",
    "plot_heatscore_tm(heatscore, p, q)"
   ]
  },
  {
   "cell_type": "markdown",
   "metadata": {},
   "source": [
    "A very high $P$ and a low $Q$ results in a scoring that's fairly close to the standard ratings.  Low star ratings are penalized severly, while high ratings get a huge boost.  Large review counts provide some boost, but not really enough to lift them above restaurants with a higher star review."
   ]
  },
  {
   "cell_type": "code",
   "execution_count": 163,
   "metadata": {
    "scrolled": false
   },
   "outputs": [
    {
     "data": {
      "image/png": "[encoded data removed]",
      "text/plain": [
       "<Figure size 864x720 with 9 Axes>"
      ]
     },
     "metadata": {
      "needs_background": "light"
     },
     "output_type": "display_data"
    }
   ],
   "source": [
    "p, q = 0.1, 500\n",
    "\n",
    "heatscore1 = clean\n",
    "heatscore1[\"heatscore\"] = heatscore1.apply(calculate_heatscore_tm, axis=1, args=(p, q))\n",
    "plot_heatscore_tm(heatscore1, p, q)"
   ]
  },
  {
   "cell_type": "markdown",
   "metadata": {},
   "source": [
    "Taken to the other extreme, a low $P$ and large $Q$ all but removes the influence of star scores.  Even very poorly rated restaurants can acheive high scores if their review counts are large.  Let's try to find a happy medium."
   ]
  },
  {
   "cell_type": "code",
   "execution_count": 164,
   "metadata": {
    "scrolled": false
   },
   "outputs": [
    {
     "data": {
      "image/png": "[encoded data removed]",
      "text/plain": [
       "<Figure size 864x720 with 9 Axes>"
      ]
     },
     "metadata": {
      "needs_background": "light"
     },
     "output_type": "display_data"
    }
   ],
   "source": [
    "p, q = 0.65, 100\n",
    "\n",
    "heatscore2 = clean\n",
    "heatscore2[\"heatscore\"] = heatscore2.apply(calculate_heatscore_tm, axis=1, args=(p, q))\n",
    "plot_heatscore_tm(heatscore2, p, q)"
   ]
  },
  {
   "cell_type": "markdown",
   "metadata": {},
   "source": [
    "This seems to work pretty well.  A slight preference for star reviews with a 0.65 $P$ ensures we don't have two-star restaurants out-performing five-star ones (assuming that have any reasonable number of reviews), and our $Q$ value ensures we factor in those highly-popular restaurants whose reviews may have regressed slightly towards the mean.  Long live the heatscore™!\n",
    "\n",
    "## Predicting a Restaurant's Score\n",
    "\n",
    "But enough about that.  We spent all that time parsing attribute data, and we've done nothing with it!  Let's see if we have the necessary data at hand to accurately predict a given restaurant's star score."
   ]
  },
  {
   "cell_type": "code",
   "execution_count": 97,
   "metadata": {},
   "outputs": [],
   "source": [
    "def preprocess_data(df, test_size, random_state):\n",
    "    \"\"\"\n",
    "    Split data into feature (X) and target (y) sets, multiple target set by 2 to ensure a rounded integer, \n",
    "    scale features using standard scaler, and split again into training and testing sets.\n",
    "    \"\"\"\n",
    "    \n",
    "    # Split into feature and target sets\n",
    "    X = df.drop(columns=[\"stars\", \"heatscore\"])\n",
    "    \n",
    "    # Multiply by 2 to get integer scores over floats\n",
    "    y = df[\"stars\"] * 2\n",
    "    y = y.astype(int)\n",
    "    \n",
    "    # Scale feature set\n",
    "    scaler = StandardScaler()\n",
    "    X = scaler.fit_transform(X)\n",
    "    \n",
    "    # Split sets for training / testing\n",
    "    X_train, X_test, y_train, y_test = train_test_split(X, y, test_size=test_size, random_state=random_state)\n",
    "    \n",
    "    return X_train, X_test, y_train, y_test"
   ]
  },
  {
   "cell_type": "markdown",
   "metadata": {},
   "source": [
    "Let's first finish up our preprocessing.  We'll first split our data into feature (X) and target (y) sets, dropping our most excellent new heatscore™ metric, as it will likely be heavily correlated to our target star rating variable.  \n",
    "\n",
    "Next, though the star rating is an integer, it is not continuous.  Because of this, we should consider this a classification problem.  Multiplying the rating by two will give us rounded integers from 1-10, which will allow us pass them to most any classification algorithm.\n",
    "\n",
    "Next, we'll scale our feature set (really only `review_count`, since our remaining features were all converted to binary dummy variables); and split everything into testing and training sets.\n",
    "\n",
    "## Modeling\n",
    "\n",
    "As a first pass, we'll use an ensemble classification model called Gradient Boost.  Ensemble methods iteratively create \"weak\" learning models such as a decision tree, calculate their error, and use that error inform the next iteration of the model.  This combination of stochastic gradient descent and bootstrapping (hence \"Gradient Boost\"!) can generate strong results with the right parameter tuning."
   ]
  },
  {
   "cell_type": "code",
   "execution_count": 105,
   "metadata": {},
   "outputs": [],
   "source": [
    "def predict_ratings(X_train, X_test, y_train, y_test, random_state):\n",
    "    \n",
    "    # Instantiate model\n",
    "    model = GradientBoostingClassifier(subsample=0.8, min_samples_split=10, random_state=random_state)\n",
    "        \n",
    "    # Fit model\n",
    "    model.fit(X_train, y_train)\n",
    "    \n",
    "    # Generate predictions\n",
    "    train_pred = model.predict(X_train)\n",
    "    test_pred = model.predict(X_test)\n",
    "    \n",
    "    # Score predictions\n",
    "    train_score = model.score(X_train, y_train)\n",
    "    test_score = model.score(X_test, y_test)\n",
    "    \n",
    "    return train_pred, test_pred, train_score, test_score, model"
   ]
  },
  {
   "cell_type": "code",
   "execution_count": 60,
   "metadata": {},
   "outputs": [
    {
     "name": "stdout",
     "output_type": "stream",
     "text": [
      "Training Accuracy - 0.31\n",
      "Test Accuracy - 0.29\n"
     ]
    }
   ],
   "source": [
    "X_train, X_test, y_train, y_test = preprocess_data(clean, 0.3, 99)\n",
    "train_pred, test_pred, train_score, test_score, model = predict_ratings(X_train, X_test, y_train, y_test, 99)\n",
    "\n",
    "print(f\"Training Accuracy - {round(train_score, 2)}\")\n",
    "print(f\"Test Accuracy - {round(test_score, 2)}\")"
   ]
  },
  {
   "cell_type": "code",
   "execution_count": 61,
   "metadata": {
    "scrolled": false
   },
   "outputs": [
    {
     "data": {
      "image/png": "[encoded data removed]",
      "text/plain": [
       "<Figure size 720x504 with 1 Axes>"
      ]
     },
     "metadata": {
      "needs_background": "light"
     },
     "output_type": "display_data"
    }
   ],
   "source": [
    "# Instantiate Figure\n",
    "fig, ax = plt.subplots(1, 1, figsize=(10, 7))\n",
    "\n",
    "ax.hist(test_pred/2, label=\"Predicted\", alpha=0.5, rwidth=.7, color='#d32323',\n",
    "        bins=[1, 1.5, 2, 2.5, 3, 3.5, 4, 4.5, 5, 5.5], align='left')\n",
    "ax.hist(y_test/2, label=\"Actual\", alpha=0.5, rwidth=.9, color='darkgrey',\n",
    "        bins=[1, 1.5, 2, 2.5, 3, 3.5, 4, 4.5, 5, 5.5], align='left')\n",
    "\n",
    "# Format\n",
    "ax.set_title(\"Distribution of Star Ratings - Predicted vs Actual\", fontsize=14)\n",
    "ax.set_xlabel(\"Stars\")\n",
    "ax.set_ylabel(\"Count\")\n",
    "ax.spines['top'].set_visible(False)\n",
    "ax.spines['right'].set_visible(False)\n",
    "\n",
    "plt.legend()\n",
    "plt.show()"
   ]
  },
  {
   "cell_type": "markdown",
   "metadata": {},
   "source": [
    "Our initial model accurately selected the star rating 29% of the time on our test set.  This is better than random chance (10%), but still less than spectacular.  We can see in the histogram comparison, that our model overly favors 3.5 and 4 star ratings.  The edge ratings almost never received a prediction."
   ]
  },
  {
   "cell_type": "code",
   "execution_count": 149,
   "metadata": {},
   "outputs": [
    {
     "data": {
      "image/png": "[encoded data removed]",
      "text/plain": [
       "<Figure size 720x504 with 2 Axes>"
      ]
     },
     "metadata": {
      "needs_background": "light"
     },
     "output_type": "display_data"
    }
   ],
   "source": [
    "def plot_confusion_matrix(y_true, y_pred, classes, normalize=True, cmap=plt.cm.Reds):\n",
    "    \"\"\"\n",
    "    Plots confusion matrix for input predicted and actual datasets. Normalization can be \n",
    "    applied by setting `normalize=True`.\n",
    "    Adapted from:\n",
    "    https://scikit-learn.org/stable/auto_examples/model_selection/plot_confusion_matrix.html\n",
    "    #sphx-glr-auto-examples-model-selection-plot-confusion-matrix-py\n",
    "    \"\"\"\n",
    "\n",
    "    # Compute confusion matrix\n",
    "    cm = confusion_matrix(y_true, y_pred)\n",
    "    \n",
    "    if normalize:\n",
    "        cm = cm.astype('float') / cm.sum(axis=1)[:, np.newaxis]\n",
    "\n",
    "    fig, ax = plt.subplots(figsize=(10, 7))\n",
    "    im = ax.imshow(cm, interpolation='nearest', cmap=cmap)\n",
    "    ax.figure.colorbar(im, ax=ax)\n",
    "    \n",
    "    # Format axes\n",
    "    ax.set(xticks=np.arange(cm.shape[1]),\n",
    "           yticks=np.arange(cm.shape[0]),\n",
    "           xticklabels=classes, yticklabels=classes,\n",
    "           title=\"Confusion Matrix\",\n",
    "           ylabel='True label',\n",
    "           xlabel='Predicted label')\n",
    "\n",
    "    # Rotate the tick labels and set their alignment.\n",
    "    plt.setp(ax.get_xticklabels(), rotation=45, ha=\"right\",\n",
    "             rotation_mode=\"anchor\")\n",
    "\n",
    "    # Loop over data dimensions and create text annotations.\n",
    "    fmt = '.2f' if normalize else 'd'\n",
    "    thresh = cm.max() / 2.\n",
    "    for i in range(cm.shape[0]):\n",
    "        for j in range(cm.shape[1]):\n",
    "            ax.text(j, i, format(cm[i, j], fmt),\n",
    "                    ha=\"center\", va=\"center\",\n",
    "                    color=\"white\" if cm[i, j] > thresh else \"black\")\n",
    "    fig.tight_layout()\n",
    "    plt.show()\n",
    "\n",
    "stars = [1, 1.5, 2, 2.5, 3, 3.5, 4, 4.5, 5]\n",
    "\n",
    "plot_confusion_matrix(y_test, test_pred, stars, normalize=False)\n"
   ]
  },
  {
   "cell_type": "markdown",
   "metadata": {},
   "source": [
    "The confusion matrix confirms our initial observations.  The model does well predicting 3.5 and 4 star restaurants, specifically.  However, we can see most of the edge reviews get clustered into these categories, as well.\n",
    "\n",
    "## Steps for Improvement\n",
    "\n",
    "This serves as a good baseline, but there's a lot of room for improvement.  What could our next steps be to make it more robust?\n",
    "\n",
    "- We removed all of the geographic information in the initial cleaning of the data set.  How might we incorporate this?  Are reviewers in Québec more generous in their ratings than those in Nevada?  What if we brought in additional geographic data such as census information to tell us more about the neighborhoods these restaurants could be found in?\n",
    "- We also removed the category field after using it to identify restaurants.  There are a lot of these, which might cause some issues but over-dimensionality, but perhaps there are some subcategories that flag more popular restaurants.  Maybe Arizonans are enthusiastic about barbeque in particular.\n",
    "- Dimensionality reduction techniques such as principle components analysis might help us identify the features that most heavily influence ratings, while removing those that don't have much impact.  We might also examine the correlation between certain fields.\n",
    "- Finally, parameter tuning can be especially impactful on algorithms like gradient boost.  Grid search techniques might help us identify the optimal parameters for our model and data.\n",
    "\n",
    "How else might we make the model more robust?\n",
    "\n",
    "## Bonus!\n",
    "\n",
    "Let's use our heatscore™ to find the best restaurant options in a specific city.  Las Vegas seems a good choice..."
   ]
  },
  {
   "cell_type": "code",
   "execution_count": 156,
   "metadata": {
    "scrolled": false
   },
   "outputs": [
    {
     "data": {
      "text/html": [
       "<div>\n",
       "<style scoped>\n",
       "    .dataframe tbody tr th:only-of-type {\n",
       "        vertical-align: middle;\n",
       "    }\n",
       "\n",
       "    .dataframe tbody tr th {\n",
       "        vertical-align: top;\n",
       "    }\n",
       "\n",
       "    .dataframe thead th {\n",
       "        text-align: right;\n",
       "    }\n",
       "</style>\n",
       "<table border=\"1\" class=\"dataframe\">\n",
       "  <thead>\n",
       "    <tr style=\"text-align: right;\">\n",
       "      <th></th>\n",
       "      <th>name</th>\n",
       "      <th>categories</th>\n",
       "      <th>address</th>\n",
       "      <th>city</th>\n",
       "      <th>stars</th>\n",
       "      <th>review_count</th>\n",
       "      <th>heatscore</th>\n",
       "    </tr>\n",
       "    <tr>\n",
       "      <th>business_id</th>\n",
       "      <th></th>\n",
       "      <th></th>\n",
       "      <th></th>\n",
       "      <th></th>\n",
       "      <th></th>\n",
       "      <th></th>\n",
       "      <th></th>\n",
       "    </tr>\n",
       "  </thead>\n",
       "  <tbody>\n",
       "    <tr>\n",
       "      <th>IhNASEZ3XnBHmuuVnWdIwA</th>\n",
       "      <td>Brew Tea Bar</td>\n",
       "      <td>Tea Rooms, Desserts, Cafes, Restaurants, Food,...</td>\n",
       "      <td>7380 S Rainbow Blvd, Ste 101</td>\n",
       "      <td>Las Vegas</td>\n",
       "      <td>5.0</td>\n",
       "      <td>1506</td>\n",
       "      <td>6.749999</td>\n",
       "    </tr>\n",
       "    <tr>\n",
       "      <th>8fFTJBh0RB2EKG53ibiBKw</th>\n",
       "      <td>Zenaida's Cafe</td>\n",
       "      <td>Cafes, Breakfast &amp; Brunch, Restaurants</td>\n",
       "      <td>3430 E Tropicana Ave, Ste 32</td>\n",
       "      <td>Las Vegas</td>\n",
       "      <td>5.0</td>\n",
       "      <td>374</td>\n",
       "      <td>6.666861</td>\n",
       "    </tr>\n",
       "    <tr>\n",
       "      <th>3pSUr_cdrphurO6m1HMP9A</th>\n",
       "      <td>J Karaoke Bar</td>\n",
       "      <td>Bars, Korean, Restaurants, Asian Fusion, Cockt...</td>\n",
       "      <td>3899 Spring Mountain Rd</td>\n",
       "      <td>Las Vegas</td>\n",
       "      <td>5.0</td>\n",
       "      <td>363</td>\n",
       "      <td>6.657193</td>\n",
       "    </tr>\n",
       "    <tr>\n",
       "      <th>O7UMzd3i-Zk8dMeyY9ZwoA</th>\n",
       "      <td>Art of Flavors</td>\n",
       "      <td>Gelato, Ice Cream &amp; Frozen Yogurt, Restaurants...</td>\n",
       "      <td>1616 S Las Vegas Blvd, Ste 130</td>\n",
       "      <td>Las Vegas</td>\n",
       "      <td>5.0</td>\n",
       "      <td>350</td>\n",
       "      <td>6.644309</td>\n",
       "    </tr>\n",
       "    <tr>\n",
       "      <th>cePE3rCuUOVSCCAHSjWxoQ</th>\n",
       "      <td>Karved</td>\n",
       "      <td>Fast Food, Restaurants, Sandwiches, American (...</td>\n",
       "      <td>3957 S Maryland Pkwy</td>\n",
       "      <td>Las Vegas</td>\n",
       "      <td>5.0</td>\n",
       "      <td>313</td>\n",
       "      <td>6.596988</td>\n",
       "    </tr>\n",
       "    <tr>\n",
       "      <th>G4hjhtA_wQ-tSOGpgGlDjw</th>\n",
       "      <td>Bajamar Seafood &amp; Tacos</td>\n",
       "      <td>Dive Bars, Restaurants, Bars, Tacos, Fast Food...</td>\n",
       "      <td>1615 S Las Vegas Blvd</td>\n",
       "      <td>Las Vegas</td>\n",
       "      <td>5.0</td>\n",
       "      <td>282</td>\n",
       "      <td>6.541379</td>\n",
       "    </tr>\n",
       "    <tr>\n",
       "      <th>iBPyahdJRP5y0t25fF2W9w</th>\n",
       "      <td>Lip Smacking Foodie Tours</td>\n",
       "      <td>Hotels, Food, Event Planning &amp; Services, Hotel...</td>\n",
       "      <td>3635 Las Vegas Blvd S</td>\n",
       "      <td>Las Vegas</td>\n",
       "      <td>5.0</td>\n",
       "      <td>257</td>\n",
       "      <td>6.482126</td>\n",
       "    </tr>\n",
       "    <tr>\n",
       "      <th>DkYS3arLOhA8si5uUEmHOw</th>\n",
       "      <td>Earl of Sandwich</td>\n",
       "      <td>Food Delivery Services, Salad, Sandwiches, Sou...</td>\n",
       "      <td>3667 Las Vegas Blvd S</td>\n",
       "      <td>Las Vegas</td>\n",
       "      <td>4.5</td>\n",
       "      <td>5075</td>\n",
       "      <td>6.425000</td>\n",
       "    </tr>\n",
       "    <tr>\n",
       "      <th>faPVqws-x-5k2CQKDNtHxw</th>\n",
       "      <td>Yardbird Southern Table &amp; Bar</td>\n",
       "      <td>Restaurants, American (New), Southern</td>\n",
       "      <td>3355 Las Vegas Blvd S</td>\n",
       "      <td>Las Vegas</td>\n",
       "      <td>4.5</td>\n",
       "      <td>3576</td>\n",
       "      <td>6.425000</td>\n",
       "    </tr>\n",
       "    <tr>\n",
       "      <th>hihud--QRriCYZw1zZvW4g</th>\n",
       "      <td>Gangnam Asian BBQ Dining</td>\n",
       "      <td>Barbeque, Korean, Asian Fusion, Tapas/Small Pl...</td>\n",
       "      <td>4480 Paradise Rd, Ste 600</td>\n",
       "      <td>Las Vegas</td>\n",
       "      <td>4.5</td>\n",
       "      <td>3449</td>\n",
       "      <td>6.425000</td>\n",
       "    </tr>\n",
       "  </tbody>\n",
       "</table>\n",
       "</div>"
      ],
      "text/plain": [
       "                                                 name  \\\n",
       "business_id                                             \n",
       "IhNASEZ3XnBHmuuVnWdIwA                   Brew Tea Bar   \n",
       "8fFTJBh0RB2EKG53ibiBKw                 Zenaida's Cafe   \n",
       "3pSUr_cdrphurO6m1HMP9A                  J Karaoke Bar   \n",
       "O7UMzd3i-Zk8dMeyY9ZwoA                 Art of Flavors   \n",
       "cePE3rCuUOVSCCAHSjWxoQ                         Karved   \n",
       "G4hjhtA_wQ-tSOGpgGlDjw        Bajamar Seafood & Tacos   \n",
       "iBPyahdJRP5y0t25fF2W9w      Lip Smacking Foodie Tours   \n",
       "DkYS3arLOhA8si5uUEmHOw               Earl of Sandwich   \n",
       "faPVqws-x-5k2CQKDNtHxw  Yardbird Southern Table & Bar   \n",
       "hihud--QRriCYZw1zZvW4g       Gangnam Asian BBQ Dining   \n",
       "\n",
       "                                                               categories  \\\n",
       "business_id                                                                 \n",
       "IhNASEZ3XnBHmuuVnWdIwA  Tea Rooms, Desserts, Cafes, Restaurants, Food,...   \n",
       "8fFTJBh0RB2EKG53ibiBKw             Cafes, Breakfast & Brunch, Restaurants   \n",
       "3pSUr_cdrphurO6m1HMP9A  Bars, Korean, Restaurants, Asian Fusion, Cockt...   \n",
       "O7UMzd3i-Zk8dMeyY9ZwoA  Gelato, Ice Cream & Frozen Yogurt, Restaurants...   \n",
       "cePE3rCuUOVSCCAHSjWxoQ  Fast Food, Restaurants, Sandwiches, American (...   \n",
       "G4hjhtA_wQ-tSOGpgGlDjw  Dive Bars, Restaurants, Bars, Tacos, Fast Food...   \n",
       "iBPyahdJRP5y0t25fF2W9w  Hotels, Food, Event Planning & Services, Hotel...   \n",
       "DkYS3arLOhA8si5uUEmHOw  Food Delivery Services, Salad, Sandwiches, Sou...   \n",
       "faPVqws-x-5k2CQKDNtHxw              Restaurants, American (New), Southern   \n",
       "hihud--QRriCYZw1zZvW4g  Barbeque, Korean, Asian Fusion, Tapas/Small Pl...   \n",
       "\n",
       "                                               address       city  stars  \\\n",
       "business_id                                                                \n",
       "IhNASEZ3XnBHmuuVnWdIwA    7380 S Rainbow Blvd, Ste 101  Las Vegas    5.0   \n",
       "8fFTJBh0RB2EKG53ibiBKw    3430 E Tropicana Ave, Ste 32  Las Vegas    5.0   \n",
       "3pSUr_cdrphurO6m1HMP9A         3899 Spring Mountain Rd  Las Vegas    5.0   \n",
       "O7UMzd3i-Zk8dMeyY9ZwoA  1616 S Las Vegas Blvd, Ste 130  Las Vegas    5.0   \n",
       "cePE3rCuUOVSCCAHSjWxoQ            3957 S Maryland Pkwy  Las Vegas    5.0   \n",
       "G4hjhtA_wQ-tSOGpgGlDjw           1615 S Las Vegas Blvd  Las Vegas    5.0   \n",
       "iBPyahdJRP5y0t25fF2W9w           3635 Las Vegas Blvd S  Las Vegas    5.0   \n",
       "DkYS3arLOhA8si5uUEmHOw           3667 Las Vegas Blvd S  Las Vegas    4.5   \n",
       "faPVqws-x-5k2CQKDNtHxw           3355 Las Vegas Blvd S  Las Vegas    4.5   \n",
       "hihud--QRriCYZw1zZvW4g       4480 Paradise Rd, Ste 600  Las Vegas    4.5   \n",
       "\n",
       "                       review_count  heatscore  \n",
       "business_id                                     \n",
       "IhNASEZ3XnBHmuuVnWdIwA         1506   6.749999  \n",
       "8fFTJBh0RB2EKG53ibiBKw          374   6.666861  \n",
       "3pSUr_cdrphurO6m1HMP9A          363   6.657193  \n",
       "O7UMzd3i-Zk8dMeyY9ZwoA          350   6.644309  \n",
       "cePE3rCuUOVSCCAHSjWxoQ          313   6.596988  \n",
       "G4hjhtA_wQ-tSOGpgGlDjw          282   6.541379  \n",
       "iBPyahdJRP5y0t25fF2W9w          257   6.482126  \n",
       "DkYS3arLOhA8si5uUEmHOw         5075   6.425000  \n",
       "faPVqws-x-5k2CQKDNtHxw         3576   6.425000  \n",
       "hihud--QRriCYZw1zZvW4g         3449   6.425000  "
      ]
     },
     "execution_count": 156,
     "metadata": {},
     "output_type": "execute_result"
    }
   ],
   "source": [
    "# Define the desired columns\n",
    "cols = [\"name\", \"categories\", \"address\", \"city\", \"stars\", \"review_count\", \"heatscore\"]\n",
    "\n",
    "# Apply heatscore™ to our restaurants dataset\n",
    "p, q = 0.65, 100\n",
    "restaurants[\"heatscore\"] = restaurants.apply(calculate_heatscore_tm, axis=1, args=(p, q))\n",
    "restaurants.sort_values(by=[\"heatscore\"], ascending=False, inplace=True)\n",
    "\n",
    "# Isolate Las Vegas and output the top 10\n",
    "vegas = restaurants[restaurants['city'] == 'Las Vegas']\n",
    "vegas.head(10)[cols]"
   ]
  },
  {
   "cell_type": "markdown",
   "metadata": {},
   "source": [
    "There you have it! Brew Tea Bar is blowing every other restaurant out of the water, and it isn't even on the Strip!"
   ]
  },
  {
   "cell_type": "markdown",
   "metadata": {},
   "source": [
    "#### Citations:\n",
    "\n",
    "Bartulis, Andrius. “Algorithm to Calculate Rating Based on Multiple Reviews (Using Both Review Score and Quantity).” Mathematics Stack Exchange, [math.stackexchange.com/questions/942738/algorithm-to-calculate-rating-based-on-multiple-reviews-using-both-review-score]().\n",
    "\n",
    "“Confusion Matrix.” Scikit, [scikit-learn.org/stable/auto_examples/model_selection/plot_confusion_matrix.html#sphx-glr-auto-examples-model-selection-plot-confusion-matrix-py]().\n",
    "\n",
    "“Understanding Gradient Boosting Machines.” Towards Data Science, Towards Data Science, 3 Nov. 2018, [towardsdatascience.com/understanding-gradient-boosting-machines-9be756fe76ab]().\n",
    "\n",
    "Yelp, Inc. “Yelp Dataset.” Kaggle, 5 Feb. 2019, [www.kaggle.com/yelp-dataset/yelp-dataset]()."
   ]
  }
 ],
 "metadata": {
  "kernelspec": {
   "display_name": "Python 3",
   "language": "python",
   "name": "python3"
  },
  "language_info": {
   "codemirror_mode": {
    "name": "ipython",
    "version": 3
   },
   "file_extension": ".py",
   "mimetype": "text/x-python",
   "name": "python",
   "nbconvert_exporter": "python",
   "pygments_lexer": "ipython3",
   "version": "3.6.8"
  }
 },
 "nbformat": 4,
 "nbformat_minor": 2
}
